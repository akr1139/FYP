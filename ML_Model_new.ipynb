{
  "cells": [
    {
      "cell_type": "markdown",
      "metadata": {
        "id": "view-in-github",
        "colab_type": "text"
      },
      "source": [
        "<a href=\"https://colab.research.google.com/github/akr1139/FYP/blob/main/ML_Model_new.ipynb\" target=\"_parent\"><img src=\"https://colab.research.google.com/assets/colab-badge.svg\" alt=\"Open In Colab\"/></a>"
      ]
    },
    {
      "cell_type": "code",
      "source": [
        "import numpy as np\n",
        "import pandas as pd"
      ],
      "metadata": {
        "id": "_po4Q_PK6VsE"
      },
      "execution_count": 1,
      "outputs": []
    },
    {
      "cell_type": "code",
      "execution_count": 2,
      "metadata": {
        "id": "nhfPnjLjALKP",
        "colab": {
          "base_uri": "https://localhost:8080/",
          "height": 143
        },
        "outputId": "e7245650-3823-45ff-dc1e-6cc48a42b507"
      },
      "outputs": [
        {
          "output_type": "execute_result",
          "data": {
            "text/plain": [
              "   data_num  MQ7  MQ2  MQ4  MQ5  MQ5.1  MQ3  Label\n",
              "0         1   92   50   94   83     87   68      1\n",
              "1         2   92   50   95   83     86   68      1\n",
              "2         3   92   50   94   82     88   68      1"
            ],
            "text/html": [
              "\n",
              "  <div id=\"df-e9bc79ef-8db0-475a-ad4f-8860bb27a1f6\" class=\"colab-df-container\">\n",
              "    <div>\n",
              "<style scoped>\n",
              "    .dataframe tbody tr th:only-of-type {\n",
              "        vertical-align: middle;\n",
              "    }\n",
              "\n",
              "    .dataframe tbody tr th {\n",
              "        vertical-align: top;\n",
              "    }\n",
              "\n",
              "    .dataframe thead th {\n",
              "        text-align: right;\n",
              "    }\n",
              "</style>\n",
              "<table border=\"1\" class=\"dataframe\">\n",
              "  <thead>\n",
              "    <tr style=\"text-align: right;\">\n",
              "      <th></th>\n",
              "      <th>data_num</th>\n",
              "      <th>MQ7</th>\n",
              "      <th>MQ2</th>\n",
              "      <th>MQ4</th>\n",
              "      <th>MQ5</th>\n",
              "      <th>MQ5.1</th>\n",
              "      <th>MQ3</th>\n",
              "      <th>Label</th>\n",
              "    </tr>\n",
              "  </thead>\n",
              "  <tbody>\n",
              "    <tr>\n",
              "      <th>0</th>\n",
              "      <td>1</td>\n",
              "      <td>92</td>\n",
              "      <td>50</td>\n",
              "      <td>94</td>\n",
              "      <td>83</td>\n",
              "      <td>87</td>\n",
              "      <td>68</td>\n",
              "      <td>1</td>\n",
              "    </tr>\n",
              "    <tr>\n",
              "      <th>1</th>\n",
              "      <td>2</td>\n",
              "      <td>92</td>\n",
              "      <td>50</td>\n",
              "      <td>95</td>\n",
              "      <td>83</td>\n",
              "      <td>86</td>\n",
              "      <td>68</td>\n",
              "      <td>1</td>\n",
              "    </tr>\n",
              "    <tr>\n",
              "      <th>2</th>\n",
              "      <td>3</td>\n",
              "      <td>92</td>\n",
              "      <td>50</td>\n",
              "      <td>94</td>\n",
              "      <td>82</td>\n",
              "      <td>88</td>\n",
              "      <td>68</td>\n",
              "      <td>1</td>\n",
              "    </tr>\n",
              "  </tbody>\n",
              "</table>\n",
              "</div>\n",
              "    <div class=\"colab-df-buttons\">\n",
              "\n",
              "  <div class=\"colab-df-container\">\n",
              "    <button class=\"colab-df-convert\" onclick=\"convertToInteractive('df-e9bc79ef-8db0-475a-ad4f-8860bb27a1f6')\"\n",
              "            title=\"Convert this dataframe to an interactive table.\"\n",
              "            style=\"display:none;\">\n",
              "\n",
              "  <svg xmlns=\"http://www.w3.org/2000/svg\" height=\"24px\" viewBox=\"0 -960 960 960\">\n",
              "    <path d=\"M120-120v-720h720v720H120Zm60-500h600v-160H180v160Zm220 220h160v-160H400v160Zm0 220h160v-160H400v160ZM180-400h160v-160H180v160Zm440 0h160v-160H620v160ZM180-180h160v-160H180v160Zm440 0h160v-160H620v160Z\"/>\n",
              "  </svg>\n",
              "    </button>\n",
              "\n",
              "  <style>\n",
              "    .colab-df-container {\n",
              "      display:flex;\n",
              "      gap: 12px;\n",
              "    }\n",
              "\n",
              "    .colab-df-convert {\n",
              "      background-color: #E8F0FE;\n",
              "      border: none;\n",
              "      border-radius: 50%;\n",
              "      cursor: pointer;\n",
              "      display: none;\n",
              "      fill: #1967D2;\n",
              "      height: 32px;\n",
              "      padding: 0 0 0 0;\n",
              "      width: 32px;\n",
              "    }\n",
              "\n",
              "    .colab-df-convert:hover {\n",
              "      background-color: #E2EBFA;\n",
              "      box-shadow: 0px 1px 2px rgba(60, 64, 67, 0.3), 0px 1px 3px 1px rgba(60, 64, 67, 0.15);\n",
              "      fill: #174EA6;\n",
              "    }\n",
              "\n",
              "    .colab-df-buttons div {\n",
              "      margin-bottom: 4px;\n",
              "    }\n",
              "\n",
              "    [theme=dark] .colab-df-convert {\n",
              "      background-color: #3B4455;\n",
              "      fill: #D2E3FC;\n",
              "    }\n",
              "\n",
              "    [theme=dark] .colab-df-convert:hover {\n",
              "      background-color: #434B5C;\n",
              "      box-shadow: 0px 1px 3px 1px rgba(0, 0, 0, 0.15);\n",
              "      filter: drop-shadow(0px 1px 2px rgba(0, 0, 0, 0.3));\n",
              "      fill: #FFFFFF;\n",
              "    }\n",
              "  </style>\n",
              "\n",
              "    <script>\n",
              "      const buttonEl =\n",
              "        document.querySelector('#df-e9bc79ef-8db0-475a-ad4f-8860bb27a1f6 button.colab-df-convert');\n",
              "      buttonEl.style.display =\n",
              "        google.colab.kernel.accessAllowed ? 'block' : 'none';\n",
              "\n",
              "      async function convertToInteractive(key) {\n",
              "        const element = document.querySelector('#df-e9bc79ef-8db0-475a-ad4f-8860bb27a1f6');\n",
              "        const dataTable =\n",
              "          await google.colab.kernel.invokeFunction('convertToInteractive',\n",
              "                                                    [key], {});\n",
              "        if (!dataTable) return;\n",
              "\n",
              "        const docLinkHtml = 'Like what you see? Visit the ' +\n",
              "          '<a target=\"_blank\" href=https://colab.research.google.com/notebooks/data_table.ipynb>data table notebook</a>'\n",
              "          + ' to learn more about interactive tables.';\n",
              "        element.innerHTML = '';\n",
              "        dataTable['output_type'] = 'display_data';\n",
              "        await google.colab.output.renderOutput(dataTable, element);\n",
              "        const docLink = document.createElement('div');\n",
              "        docLink.innerHTML = docLinkHtml;\n",
              "        element.appendChild(docLink);\n",
              "      }\n",
              "    </script>\n",
              "  </div>\n",
              "\n",
              "\n",
              "<div id=\"df-8f6c0f83-7ad7-4a6e-a3cb-5604216370a3\">\n",
              "  <button class=\"colab-df-quickchart\" onclick=\"quickchart('df-8f6c0f83-7ad7-4a6e-a3cb-5604216370a3')\"\n",
              "            title=\"Suggest charts\"\n",
              "            style=\"display:none;\">\n",
              "\n",
              "<svg xmlns=\"http://www.w3.org/2000/svg\" height=\"24px\"viewBox=\"0 0 24 24\"\n",
              "     width=\"24px\">\n",
              "    <g>\n",
              "        <path d=\"M19 3H5c-1.1 0-2 .9-2 2v14c0 1.1.9 2 2 2h14c1.1 0 2-.9 2-2V5c0-1.1-.9-2-2-2zM9 17H7v-7h2v7zm4 0h-2V7h2v10zm4 0h-2v-4h2v4z\"/>\n",
              "    </g>\n",
              "</svg>\n",
              "  </button>\n",
              "\n",
              "<style>\n",
              "  .colab-df-quickchart {\n",
              "      --bg-color: #E8F0FE;\n",
              "      --fill-color: #1967D2;\n",
              "      --hover-bg-color: #E2EBFA;\n",
              "      --hover-fill-color: #174EA6;\n",
              "      --disabled-fill-color: #AAA;\n",
              "      --disabled-bg-color: #DDD;\n",
              "  }\n",
              "\n",
              "  [theme=dark] .colab-df-quickchart {\n",
              "      --bg-color: #3B4455;\n",
              "      --fill-color: #D2E3FC;\n",
              "      --hover-bg-color: #434B5C;\n",
              "      --hover-fill-color: #FFFFFF;\n",
              "      --disabled-bg-color: #3B4455;\n",
              "      --disabled-fill-color: #666;\n",
              "  }\n",
              "\n",
              "  .colab-df-quickchart {\n",
              "    background-color: var(--bg-color);\n",
              "    border: none;\n",
              "    border-radius: 50%;\n",
              "    cursor: pointer;\n",
              "    display: none;\n",
              "    fill: var(--fill-color);\n",
              "    height: 32px;\n",
              "    padding: 0;\n",
              "    width: 32px;\n",
              "  }\n",
              "\n",
              "  .colab-df-quickchart:hover {\n",
              "    background-color: var(--hover-bg-color);\n",
              "    box-shadow: 0 1px 2px rgba(60, 64, 67, 0.3), 0 1px 3px 1px rgba(60, 64, 67, 0.15);\n",
              "    fill: var(--button-hover-fill-color);\n",
              "  }\n",
              "\n",
              "  .colab-df-quickchart-complete:disabled,\n",
              "  .colab-df-quickchart-complete:disabled:hover {\n",
              "    background-color: var(--disabled-bg-color);\n",
              "    fill: var(--disabled-fill-color);\n",
              "    box-shadow: none;\n",
              "  }\n",
              "\n",
              "  .colab-df-spinner {\n",
              "    border: 2px solid var(--fill-color);\n",
              "    border-color: transparent;\n",
              "    border-bottom-color: var(--fill-color);\n",
              "    animation:\n",
              "      spin 1s steps(1) infinite;\n",
              "  }\n",
              "\n",
              "  @keyframes spin {\n",
              "    0% {\n",
              "      border-color: transparent;\n",
              "      border-bottom-color: var(--fill-color);\n",
              "      border-left-color: var(--fill-color);\n",
              "    }\n",
              "    20% {\n",
              "      border-color: transparent;\n",
              "      border-left-color: var(--fill-color);\n",
              "      border-top-color: var(--fill-color);\n",
              "    }\n",
              "    30% {\n",
              "      border-color: transparent;\n",
              "      border-left-color: var(--fill-color);\n",
              "      border-top-color: var(--fill-color);\n",
              "      border-right-color: var(--fill-color);\n",
              "    }\n",
              "    40% {\n",
              "      border-color: transparent;\n",
              "      border-right-color: var(--fill-color);\n",
              "      border-top-color: var(--fill-color);\n",
              "    }\n",
              "    60% {\n",
              "      border-color: transparent;\n",
              "      border-right-color: var(--fill-color);\n",
              "    }\n",
              "    80% {\n",
              "      border-color: transparent;\n",
              "      border-right-color: var(--fill-color);\n",
              "      border-bottom-color: var(--fill-color);\n",
              "    }\n",
              "    90% {\n",
              "      border-color: transparent;\n",
              "      border-bottom-color: var(--fill-color);\n",
              "    }\n",
              "  }\n",
              "</style>\n",
              "\n",
              "  <script>\n",
              "    async function quickchart(key) {\n",
              "      const quickchartButtonEl =\n",
              "        document.querySelector('#' + key + ' button');\n",
              "      quickchartButtonEl.disabled = true;  // To prevent multiple clicks.\n",
              "      quickchartButtonEl.classList.add('colab-df-spinner');\n",
              "      try {\n",
              "        const charts = await google.colab.kernel.invokeFunction(\n",
              "            'suggestCharts', [key], {});\n",
              "      } catch (error) {\n",
              "        console.error('Error during call to suggestCharts:', error);\n",
              "      }\n",
              "      quickchartButtonEl.classList.remove('colab-df-spinner');\n",
              "      quickchartButtonEl.classList.add('colab-df-quickchart-complete');\n",
              "    }\n",
              "    (() => {\n",
              "      let quickchartButtonEl =\n",
              "        document.querySelector('#df-8f6c0f83-7ad7-4a6e-a3cb-5604216370a3 button');\n",
              "      quickchartButtonEl.style.display =\n",
              "        google.colab.kernel.accessAllowed ? 'block' : 'none';\n",
              "    })();\n",
              "  </script>\n",
              "</div>\n",
              "    </div>\n",
              "  </div>\n"
            ]
          },
          "metadata": {},
          "execution_count": 2
        }
      ],
      "source": [
        "url=\"https://raw.githubusercontent.com/akr1139/FYP/main/gas_dataset.csv\"\n",
        "#https://raw.githubusercontent.com/akr1139/FYP/main/gas_dataset.csv\n",
        "data=pd.read_csv(url,encoding='latin-1')\n",
        "data.head(3)"
      ]
    },
    {
      "cell_type": "code",
      "source": [
        "data.info()"
      ],
      "metadata": {
        "colab": {
          "base_uri": "https://localhost:8080/"
        },
        "id": "RCoPfWEj9f3y",
        "outputId": "18a93ef8-88d0-46b1-fb26-9441cb425e2c"
      },
      "execution_count": 3,
      "outputs": [
        {
          "output_type": "stream",
          "name": "stdout",
          "text": [
            "<class 'pandas.core.frame.DataFrame'>\n",
            "RangeIndex: 7100 entries, 0 to 7099\n",
            "Data columns (total 8 columns):\n",
            " #   Column    Non-Null Count  Dtype\n",
            "---  ------    --------------  -----\n",
            " 0   data_num  7100 non-null   int64\n",
            " 1   MQ7       7100 non-null   int64\n",
            " 2   MQ2       7100 non-null   int64\n",
            " 3   MQ4       7100 non-null   int64\n",
            " 4   MQ5       7100 non-null   int64\n",
            " 5   MQ5.1     7100 non-null   int64\n",
            " 6   MQ3       7100 non-null   int64\n",
            " 7   Label     7100 non-null   int64\n",
            "dtypes: int64(8)\n",
            "memory usage: 443.9 KB\n"
          ]
        }
      ]
    },
    {
      "cell_type": "code",
      "source": [
        "X=data.drop('Label',axis=1)\n",
        "y=data['Label']"
      ],
      "metadata": {
        "id": "8qjIuLg77Waj"
      },
      "execution_count": 4,
      "outputs": []
    },
    {
      "cell_type": "code",
      "source": [
        "from sklearn.model_selection import train_test_split\n",
        "X_train, X_test, y_train, y_test=train_test_split(X,y,test_size=0.3,random_state=1)"
      ],
      "metadata": {
        "id": "yVyvgPP87I7D"
      },
      "execution_count": 5,
      "outputs": []
    },
    {
      "cell_type": "code",
      "source": [
        "X_train.shape"
      ],
      "metadata": {
        "colab": {
          "base_uri": "https://localhost:8080/"
        },
        "id": "DnajEX538HxB",
        "outputId": "fdfa01a3-d23a-4c0f-938f-aca15d0e53a4"
      },
      "execution_count": 6,
      "outputs": [
        {
          "output_type": "execute_result",
          "data": {
            "text/plain": [
              "(4970, 7)"
            ]
          },
          "metadata": {},
          "execution_count": 6
        }
      ]
    },
    {
      "cell_type": "code",
      "source": [
        "X_test.shape"
      ],
      "metadata": {
        "colab": {
          "base_uri": "https://localhost:8080/"
        },
        "id": "JL119yBp8NbH",
        "outputId": "2b7f93b4-750a-474a-97bb-675740552e21"
      },
      "execution_count": 7,
      "outputs": [
        {
          "output_type": "execute_result",
          "data": {
            "text/plain": [
              "(2130, 7)"
            ]
          },
          "metadata": {},
          "execution_count": 7
        }
      ]
    },
    {
      "cell_type": "code",
      "source": [
        "def model_acc(model):\n",
        "  model.fit(X_train,y_train)\n",
        "  acc=model.score(X_test,y_test)\n",
        "  print(str(model)+' --> '+str(acc))"
      ],
      "metadata": {
        "id": "ohXYVL899USC"
      },
      "execution_count": 8,
      "outputs": []
    },
    {
      "cell_type": "code",
      "source": [
        "data.isnull().sum()"
      ],
      "metadata": {
        "colab": {
          "base_uri": "https://localhost:8080/"
        },
        "id": "SMlRkiktAC2G",
        "outputId": "ae25b38a-6806-485e-dd25-aa4fc382c661"
      },
      "execution_count": 9,
      "outputs": [
        {
          "output_type": "execute_result",
          "data": {
            "text/plain": [
              "data_num    0\n",
              "MQ7         0\n",
              "MQ2         0\n",
              "MQ4         0\n",
              "MQ5         0\n",
              "MQ5.1       0\n",
              "MQ3         0\n",
              "Label       0\n",
              "dtype: int64"
            ]
          },
          "metadata": {},
          "execution_count": 9
        }
      ]
    },
    {
      "cell_type": "code",
      "source": [
        "from sklearn.linear_model import LinearRegression\n",
        "from sklearn.linear_model import Lasso\n",
        "from sklearn.tree import DecisionTreeRegressor\n",
        "from sklearn.ensemble import RandomForestRegressor\n",
        "\n",
        "from sklearn.ensemble import HistGradientBoostingClassifier\n",
        "\n",
        "lr=LinearRegression()\n",
        "ls=Lasso()\n",
        "ds=DecisionTreeRegressor()\n",
        "rf=RandomForestRegressor()\n",
        "\n",
        "# hgbc=HistGradientBoostingClassifier()\n",
        "model_acc(lr)\n",
        "model_acc(ls)\n",
        "model_acc(ds)\n",
        "model_acc(rf)\n",
        "# model_acc(hgbc)"
      ],
      "metadata": {
        "colab": {
          "base_uri": "https://localhost:8080/"
        },
        "id": "Oqldqt769Xdh",
        "outputId": "f4626cf8-feee-447d-d73d-48906c4a4708"
      },
      "execution_count": 10,
      "outputs": [
        {
          "output_type": "stream",
          "name": "stdout",
          "text": [
            "LinearRegression() --> 0.8097654661975496\n",
            "Lasso() --> 0.5985625452642735\n",
            "DecisionTreeRegressor() --> 0.9941021425836104\n",
            "RandomForestRegressor() --> 0.9966725468028214\n"
          ]
        }
      ]
    },
    {
      "cell_type": "markdown",
      "source": [
        "## Hyperparameter tunning"
      ],
      "metadata": {
        "id": "iEdt4Qxsk-m5"
      }
    },
    {
      "cell_type": "code",
      "source": [
        "from sklearn.model_selection import GridSearchCV\n",
        "\n",
        "parameters = {'n_estimators':[10, 50, 100],\n",
        "              'criterion':['squared_error','absolute_error','poisson']}\n",
        "\n",
        "grid_obj = GridSearchCV(estimator=rf, param_grid=parameters)\n",
        "\n",
        "grid_fit = grid_obj.fit(X_train, y_train)\n",
        "\n",
        "best_model = grid_fit.best_estimator_\n",
        "best_model"
      ],
      "metadata": {
        "colab": {
          "base_uri": "https://localhost:8080/",
          "height": 74
        },
        "id": "BtV2591zk5e5",
        "outputId": "cd5244d9-5281-4ce3-fbd6-0bbb1f73d4bf"
      },
      "execution_count": 12,
      "outputs": [
        {
          "output_type": "execute_result",
          "data": {
            "text/plain": [
              "RandomForestRegressor(criterion='absolute_error')"
            ],
            "text/html": [
              "<style>#sk-container-id-1 {color: black;background-color: white;}#sk-container-id-1 pre{padding: 0;}#sk-container-id-1 div.sk-toggleable {background-color: white;}#sk-container-id-1 label.sk-toggleable__label {cursor: pointer;display: block;width: 100%;margin-bottom: 0;padding: 0.3em;box-sizing: border-box;text-align: center;}#sk-container-id-1 label.sk-toggleable__label-arrow:before {content: \"▸\";float: left;margin-right: 0.25em;color: #696969;}#sk-container-id-1 label.sk-toggleable__label-arrow:hover:before {color: black;}#sk-container-id-1 div.sk-estimator:hover label.sk-toggleable__label-arrow:before {color: black;}#sk-container-id-1 div.sk-toggleable__content {max-height: 0;max-width: 0;overflow: hidden;text-align: left;background-color: #f0f8ff;}#sk-container-id-1 div.sk-toggleable__content pre {margin: 0.2em;color: black;border-radius: 0.25em;background-color: #f0f8ff;}#sk-container-id-1 input.sk-toggleable__control:checked~div.sk-toggleable__content {max-height: 200px;max-width: 100%;overflow: auto;}#sk-container-id-1 input.sk-toggleable__control:checked~label.sk-toggleable__label-arrow:before {content: \"▾\";}#sk-container-id-1 div.sk-estimator input.sk-toggleable__control:checked~label.sk-toggleable__label {background-color: #d4ebff;}#sk-container-id-1 div.sk-label input.sk-toggleable__control:checked~label.sk-toggleable__label {background-color: #d4ebff;}#sk-container-id-1 input.sk-hidden--visually {border: 0;clip: rect(1px 1px 1px 1px);clip: rect(1px, 1px, 1px, 1px);height: 1px;margin: -1px;overflow: hidden;padding: 0;position: absolute;width: 1px;}#sk-container-id-1 div.sk-estimator {font-family: monospace;background-color: #f0f8ff;border: 1px dotted black;border-radius: 0.25em;box-sizing: border-box;margin-bottom: 0.5em;}#sk-container-id-1 div.sk-estimator:hover {background-color: #d4ebff;}#sk-container-id-1 div.sk-parallel-item::after {content: \"\";width: 100%;border-bottom: 1px solid gray;flex-grow: 1;}#sk-container-id-1 div.sk-label:hover label.sk-toggleable__label {background-color: #d4ebff;}#sk-container-id-1 div.sk-serial::before {content: \"\";position: absolute;border-left: 1px solid gray;box-sizing: border-box;top: 0;bottom: 0;left: 50%;z-index: 0;}#sk-container-id-1 div.sk-serial {display: flex;flex-direction: column;align-items: center;background-color: white;padding-right: 0.2em;padding-left: 0.2em;position: relative;}#sk-container-id-1 div.sk-item {position: relative;z-index: 1;}#sk-container-id-1 div.sk-parallel {display: flex;align-items: stretch;justify-content: center;background-color: white;position: relative;}#sk-container-id-1 div.sk-item::before, #sk-container-id-1 div.sk-parallel-item::before {content: \"\";position: absolute;border-left: 1px solid gray;box-sizing: border-box;top: 0;bottom: 0;left: 50%;z-index: -1;}#sk-container-id-1 div.sk-parallel-item {display: flex;flex-direction: column;z-index: 1;position: relative;background-color: white;}#sk-container-id-1 div.sk-parallel-item:first-child::after {align-self: flex-end;width: 50%;}#sk-container-id-1 div.sk-parallel-item:last-child::after {align-self: flex-start;width: 50%;}#sk-container-id-1 div.sk-parallel-item:only-child::after {width: 0;}#sk-container-id-1 div.sk-dashed-wrapped {border: 1px dashed gray;margin: 0 0.4em 0.5em 0.4em;box-sizing: border-box;padding-bottom: 0.4em;background-color: white;}#sk-container-id-1 div.sk-label label {font-family: monospace;font-weight: bold;display: inline-block;line-height: 1.2em;}#sk-container-id-1 div.sk-label-container {text-align: center;}#sk-container-id-1 div.sk-container {/* jupyter's `normalize.less` sets `[hidden] { display: none; }` but bootstrap.min.css set `[hidden] { display: none !important; }` so we also need the `!important` here to be able to override the default hidden behavior on the sphinx rendered scikit-learn.org. See: https://github.com/scikit-learn/scikit-learn/issues/21755 */display: inline-block !important;position: relative;}#sk-container-id-1 div.sk-text-repr-fallback {display: none;}</style><div id=\"sk-container-id-1\" class=\"sk-top-container\"><div class=\"sk-text-repr-fallback\"><pre>RandomForestRegressor(criterion=&#x27;absolute_error&#x27;)</pre><b>In a Jupyter environment, please rerun this cell to show the HTML representation or trust the notebook. <br />On GitHub, the HTML representation is unable to render, please try loading this page with nbviewer.org.</b></div><div class=\"sk-container\" hidden><div class=\"sk-item\"><div class=\"sk-estimator sk-toggleable\"><input class=\"sk-toggleable__control sk-hidden--visually\" id=\"sk-estimator-id-1\" type=\"checkbox\" checked><label for=\"sk-estimator-id-1\" class=\"sk-toggleable__label sk-toggleable__label-arrow\">RandomForestRegressor</label><div class=\"sk-toggleable__content\"><pre>RandomForestRegressor(criterion=&#x27;absolute_error&#x27;)</pre></div></div></div></div></div>"
            ]
          },
          "metadata": {},
          "execution_count": 12
        }
      ]
    },
    {
      "cell_type": "markdown",
      "source": [
        "![image.png](data:image/png;base64,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)"
      ],
      "metadata": {
        "id": "U6_AZQUGlyo1"
      }
    }
  ],
  "metadata": {
    "kernelspec": {
      "display_name": "Python 3",
      "name": "python3"
    },
    "language_info": {
      "codemirror_mode": {
        "name": "ipython",
        "version": 3
      },
      "file_extension": ".py",
      "mimetype": "text/x-python",
      "name": "python",
      "nbconvert_exporter": "python",
      "pygments_lexer": "ipython3",
      "version": "3.8.5"
    },
    "colab": {
      "provenance": [],
      "include_colab_link": true
    },
    "accelerator": "TPU"
  },
  "nbformat": 4,
  "nbformat_minor": 0
}