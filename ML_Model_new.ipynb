{
  "cells": [
    {
      "cell_type": "markdown",
      "metadata": {
        "id": "view-in-github",
        "colab_type": "text"
      },
      "source": [
        "<a href=\"https://colab.research.google.com/github/akr1139/FYP/blob/main/ML_Model_new.ipynb\" target=\"_parent\"><img src=\"https://colab.research.google.com/assets/colab-badge.svg\" alt=\"Open In Colab\"/></a>"
      ]
    },
    {
      "cell_type": "code",
      "source": [
        "import numpy as np\n",
        "import pandas as pd"
      ],
      "metadata": {
        "id": "_po4Q_PK6VsE"
      },
      "execution_count": 1,
      "outputs": []
    },
    {
      "cell_type": "code",
      "execution_count": 2,
      "metadata": {
        "id": "nhfPnjLjALKP",
        "colab": {
          "base_uri": "https://localhost:8080/",
          "height": 143
        },
        "outputId": "8526c176-a529-44f7-e5a1-afa8d07d3346"
      },
      "outputs": [
        {
          "output_type": "execute_result",
          "data": {
            "text/plain": [
              "   data_num  MQ7  MQ2  MQ4  MQ5  MQ5.1  MQ3  Label\n",
              "0         1   92   50   94   83     87   68      1\n",
              "1         2   92   50   95   83     86   68      1\n",
              "2         3   92   50   94   82     88   68      1"
            ],
            "text/html": [
              "\n",
              "  <div id=\"df-33173567-d554-4e61-a8ca-17b1439baf2f\" class=\"colab-df-container\">\n",
              "    <div>\n",
              "<style scoped>\n",
              "    .dataframe tbody tr th:only-of-type {\n",
              "        vertical-align: middle;\n",
              "    }\n",
              "\n",
              "    .dataframe tbody tr th {\n",
              "        vertical-align: top;\n",
              "    }\n",
              "\n",
              "    .dataframe thead th {\n",
              "        text-align: right;\n",
              "    }\n",
              "</style>\n",
              "<table border=\"1\" class=\"dataframe\">\n",
              "  <thead>\n",
              "    <tr style=\"text-align: right;\">\n",
              "      <th></th>\n",
              "      <th>data_num</th>\n",
              "      <th>MQ7</th>\n",
              "      <th>MQ2</th>\n",
              "      <th>MQ4</th>\n",
              "      <th>MQ5</th>\n",
              "      <th>MQ5.1</th>\n",
              "      <th>MQ3</th>\n",
              "      <th>Label</th>\n",
              "    </tr>\n",
              "  </thead>\n",
              "  <tbody>\n",
              "    <tr>\n",
              "      <th>0</th>\n",
              "      <td>1</td>\n",
              "      <td>92</td>\n",
              "      <td>50</td>\n",
              "      <td>94</td>\n",
              "      <td>83</td>\n",
              "      <td>87</td>\n",
              "      <td>68</td>\n",
              "      <td>1</td>\n",
              "    </tr>\n",
              "    <tr>\n",
              "      <th>1</th>\n",
              "      <td>2</td>\n",
              "      <td>92</td>\n",
              "      <td>50</td>\n",
              "      <td>95</td>\n",
              "      <td>83</td>\n",
              "      <td>86</td>\n",
              "      <td>68</td>\n",
              "      <td>1</td>\n",
              "    </tr>\n",
              "    <tr>\n",
              "      <th>2</th>\n",
              "      <td>3</td>\n",
              "      <td>92</td>\n",
              "      <td>50</td>\n",
              "      <td>94</td>\n",
              "      <td>82</td>\n",
              "      <td>88</td>\n",
              "      <td>68</td>\n",
              "      <td>1</td>\n",
              "    </tr>\n",
              "  </tbody>\n",
              "</table>\n",
              "</div>\n",
              "    <div class=\"colab-df-buttons\">\n",
              "\n",
              "  <div class=\"colab-df-container\">\n",
              "    <button class=\"colab-df-convert\" onclick=\"convertToInteractive('df-33173567-d554-4e61-a8ca-17b1439baf2f')\"\n",
              "            title=\"Convert this dataframe to an interactive table.\"\n",
              "            style=\"display:none;\">\n",
              "\n",
              "  <svg xmlns=\"http://www.w3.org/2000/svg\" height=\"24px\" viewBox=\"0 -960 960 960\">\n",
              "    <path d=\"M120-120v-720h720v720H120Zm60-500h600v-160H180v160Zm220 220h160v-160H400v160Zm0 220h160v-160H400v160ZM180-400h160v-160H180v160Zm440 0h160v-160H620v160ZM180-180h160v-160H180v160Zm440 0h160v-160H620v160Z\"/>\n",
              "  </svg>\n",
              "    </button>\n",
              "\n",
              "  <style>\n",
              "    .colab-df-container {\n",
              "      display:flex;\n",
              "      gap: 12px;\n",
              "    }\n",
              "\n",
              "    .colab-df-convert {\n",
              "      background-color: #E8F0FE;\n",
              "      border: none;\n",
              "      border-radius: 50%;\n",
              "      cursor: pointer;\n",
              "      display: none;\n",
              "      fill: #1967D2;\n",
              "      height: 32px;\n",
              "      padding: 0 0 0 0;\n",
              "      width: 32px;\n",
              "    }\n",
              "\n",
              "    .colab-df-convert:hover {\n",
              "      background-color: #E2EBFA;\n",
              "      box-shadow: 0px 1px 2px rgba(60, 64, 67, 0.3), 0px 1px 3px 1px rgba(60, 64, 67, 0.15);\n",
              "      fill: #174EA6;\n",
              "    }\n",
              "\n",
              "    .colab-df-buttons div {\n",
              "      margin-bottom: 4px;\n",
              "    }\n",
              "\n",
              "    [theme=dark] .colab-df-convert {\n",
              "      background-color: #3B4455;\n",
              "      fill: #D2E3FC;\n",
              "    }\n",
              "\n",
              "    [theme=dark] .colab-df-convert:hover {\n",
              "      background-color: #434B5C;\n",
              "      box-shadow: 0px 1px 3px 1px rgba(0, 0, 0, 0.15);\n",
              "      filter: drop-shadow(0px 1px 2px rgba(0, 0, 0, 0.3));\n",
              "      fill: #FFFFFF;\n",
              "    }\n",
              "  </style>\n",
              "\n",
              "    <script>\n",
              "      const buttonEl =\n",
              "        document.querySelector('#df-33173567-d554-4e61-a8ca-17b1439baf2f button.colab-df-convert');\n",
              "      buttonEl.style.display =\n",
              "        google.colab.kernel.accessAllowed ? 'block' : 'none';\n",
              "\n",
              "      async function convertToInteractive(key) {\n",
              "        const element = document.querySelector('#df-33173567-d554-4e61-a8ca-17b1439baf2f');\n",
              "        const dataTable =\n",
              "          await google.colab.kernel.invokeFunction('convertToInteractive',\n",
              "                                                    [key], {});\n",
              "        if (!dataTable) return;\n",
              "\n",
              "        const docLinkHtml = 'Like what you see? Visit the ' +\n",
              "          '<a target=\"_blank\" href=https://colab.research.google.com/notebooks/data_table.ipynb>data table notebook</a>'\n",
              "          + ' to learn more about interactive tables.';\n",
              "        element.innerHTML = '';\n",
              "        dataTable['output_type'] = 'display_data';\n",
              "        await google.colab.output.renderOutput(dataTable, element);\n",
              "        const docLink = document.createElement('div');\n",
              "        docLink.innerHTML = docLinkHtml;\n",
              "        element.appendChild(docLink);\n",
              "      }\n",
              "    </script>\n",
              "  </div>\n",
              "\n",
              "\n",
              "<div id=\"df-6daebd01-2f46-4aa6-b530-8effb445b6ed\">\n",
              "  <button class=\"colab-df-quickchart\" onclick=\"quickchart('df-6daebd01-2f46-4aa6-b530-8effb445b6ed')\"\n",
              "            title=\"Suggest charts\"\n",
              "            style=\"display:none;\">\n",
              "\n",
              "<svg xmlns=\"http://www.w3.org/2000/svg\" height=\"24px\"viewBox=\"0 0 24 24\"\n",
              "     width=\"24px\">\n",
              "    <g>\n",
              "        <path d=\"M19 3H5c-1.1 0-2 .9-2 2v14c0 1.1.9 2 2 2h14c1.1 0 2-.9 2-2V5c0-1.1-.9-2-2-2zM9 17H7v-7h2v7zm4 0h-2V7h2v10zm4 0h-2v-4h2v4z\"/>\n",
              "    </g>\n",
              "</svg>\n",
              "  </button>\n",
              "\n",
              "<style>\n",
              "  .colab-df-quickchart {\n",
              "      --bg-color: #E8F0FE;\n",
              "      --fill-color: #1967D2;\n",
              "      --hover-bg-color: #E2EBFA;\n",
              "      --hover-fill-color: #174EA6;\n",
              "      --disabled-fill-color: #AAA;\n",
              "      --disabled-bg-color: #DDD;\n",
              "  }\n",
              "\n",
              "  [theme=dark] .colab-df-quickchart {\n",
              "      --bg-color: #3B4455;\n",
              "      --fill-color: #D2E3FC;\n",
              "      --hover-bg-color: #434B5C;\n",
              "      --hover-fill-color: #FFFFFF;\n",
              "      --disabled-bg-color: #3B4455;\n",
              "      --disabled-fill-color: #666;\n",
              "  }\n",
              "\n",
              "  .colab-df-quickchart {\n",
              "    background-color: var(--bg-color);\n",
              "    border: none;\n",
              "    border-radius: 50%;\n",
              "    cursor: pointer;\n",
              "    display: none;\n",
              "    fill: var(--fill-color);\n",
              "    height: 32px;\n",
              "    padding: 0;\n",
              "    width: 32px;\n",
              "  }\n",
              "\n",
              "  .colab-df-quickchart:hover {\n",
              "    background-color: var(--hover-bg-color);\n",
              "    box-shadow: 0 1px 2px rgba(60, 64, 67, 0.3), 0 1px 3px 1px rgba(60, 64, 67, 0.15);\n",
              "    fill: var(--button-hover-fill-color);\n",
              "  }\n",
              "\n",
              "  .colab-df-quickchart-complete:disabled,\n",
              "  .colab-df-quickchart-complete:disabled:hover {\n",
              "    background-color: var(--disabled-bg-color);\n",
              "    fill: var(--disabled-fill-color);\n",
              "    box-shadow: none;\n",
              "  }\n",
              "\n",
              "  .colab-df-spinner {\n",
              "    border: 2px solid var(--fill-color);\n",
              "    border-color: transparent;\n",
              "    border-bottom-color: var(--fill-color);\n",
              "    animation:\n",
              "      spin 1s steps(1) infinite;\n",
              "  }\n",
              "\n",
              "  @keyframes spin {\n",
              "    0% {\n",
              "      border-color: transparent;\n",
              "      border-bottom-color: var(--fill-color);\n",
              "      border-left-color: var(--fill-color);\n",
              "    }\n",
              "    20% {\n",
              "      border-color: transparent;\n",
              "      border-left-color: var(--fill-color);\n",
              "      border-top-color: var(--fill-color);\n",
              "    }\n",
              "    30% {\n",
              "      border-color: transparent;\n",
              "      border-left-color: var(--fill-color);\n",
              "      border-top-color: var(--fill-color);\n",
              "      border-right-color: var(--fill-color);\n",
              "    }\n",
              "    40% {\n",
              "      border-color: transparent;\n",
              "      border-right-color: var(--fill-color);\n",
              "      border-top-color: var(--fill-color);\n",
              "    }\n",
              "    60% {\n",
              "      border-color: transparent;\n",
              "      border-right-color: var(--fill-color);\n",
              "    }\n",
              "    80% {\n",
              "      border-color: transparent;\n",
              "      border-right-color: var(--fill-color);\n",
              "      border-bottom-color: var(--fill-color);\n",
              "    }\n",
              "    90% {\n",
              "      border-color: transparent;\n",
              "      border-bottom-color: var(--fill-color);\n",
              "    }\n",
              "  }\n",
              "</style>\n",
              "\n",
              "  <script>\n",
              "    async function quickchart(key) {\n",
              "      const quickchartButtonEl =\n",
              "        document.querySelector('#' + key + ' button');\n",
              "      quickchartButtonEl.disabled = true;  // To prevent multiple clicks.\n",
              "      quickchartButtonEl.classList.add('colab-df-spinner');\n",
              "      try {\n",
              "        const charts = await google.colab.kernel.invokeFunction(\n",
              "            'suggestCharts', [key], {});\n",
              "      } catch (error) {\n",
              "        console.error('Error during call to suggestCharts:', error);\n",
              "      }\n",
              "      quickchartButtonEl.classList.remove('colab-df-spinner');\n",
              "      quickchartButtonEl.classList.add('colab-df-quickchart-complete');\n",
              "    }\n",
              "    (() => {\n",
              "      let quickchartButtonEl =\n",
              "        document.querySelector('#df-6daebd01-2f46-4aa6-b530-8effb445b6ed button');\n",
              "      quickchartButtonEl.style.display =\n",
              "        google.colab.kernel.accessAllowed ? 'block' : 'none';\n",
              "    })();\n",
              "  </script>\n",
              "</div>\n",
              "    </div>\n",
              "  </div>\n"
            ]
          },
          "metadata": {},
          "execution_count": 2
        }
      ],
      "source": [
        "url=\"https://raw.githubusercontent.com/akr1139/FYP/main/gas_dataset.csv\"\n",
        "#https://raw.githubusercontent.com/akr1139/FYP/main/gas_dataset.csv\n",
        "data=pd.read_csv(url,encoding='latin-1')\n",
        "data.head(3)"
      ]
    },
    {
      "cell_type": "code",
      "source": [
        "data.info()"
      ],
      "metadata": {
        "colab": {
          "base_uri": "https://localhost:8080/"
        },
        "id": "RCoPfWEj9f3y",
        "outputId": "0ba78d06-919a-451d-b257-cf194bf4a13d"
      },
      "execution_count": 3,
      "outputs": [
        {
          "output_type": "stream",
          "name": "stdout",
          "text": [
            "<class 'pandas.core.frame.DataFrame'>\n",
            "RangeIndex: 7100 entries, 0 to 7099\n",
            "Data columns (total 8 columns):\n",
            " #   Column    Non-Null Count  Dtype\n",
            "---  ------    --------------  -----\n",
            " 0   data_num  7100 non-null   int64\n",
            " 1   MQ7       7100 non-null   int64\n",
            " 2   MQ2       7100 non-null   int64\n",
            " 3   MQ4       7100 non-null   int64\n",
            " 4   MQ5       7100 non-null   int64\n",
            " 5   MQ5.1     7100 non-null   int64\n",
            " 6   MQ3       7100 non-null   int64\n",
            " 7   Label     7100 non-null   int64\n",
            "dtypes: int64(8)\n",
            "memory usage: 443.9 KB\n"
          ]
        }
      ]
    },
    {
      "cell_type": "code",
      "source": [
        "data = data.drop(columns=['data_num'])"
      ],
      "metadata": {
        "id": "f07FpyiLmp8D"
      },
      "execution_count": 4,
      "outputs": []
    },
    {
      "cell_type": "code",
      "source": [
        "X=data.drop('Label',axis=1)\n",
        "y=data['Label']"
      ],
      "metadata": {
        "id": "8qjIuLg77Waj"
      },
      "execution_count": 5,
      "outputs": []
    },
    {
      "cell_type": "code",
      "source": [
        "from sklearn.model_selection import train_test_split\n",
        "X_train, X_test, y_train, y_test=train_test_split(X,y,test_size=0.3,random_state=1)"
      ],
      "metadata": {
        "id": "yVyvgPP87I7D"
      },
      "execution_count": 6,
      "outputs": []
    },
    {
      "cell_type": "code",
      "source": [
        "X_train.shape"
      ],
      "metadata": {
        "colab": {
          "base_uri": "https://localhost:8080/"
        },
        "id": "DnajEX538HxB",
        "outputId": "c7002385-9605-435b-a469-624f21c20441"
      },
      "execution_count": 7,
      "outputs": [
        {
          "output_type": "execute_result",
          "data": {
            "text/plain": [
              "(4970, 6)"
            ]
          },
          "metadata": {},
          "execution_count": 7
        }
      ]
    },
    {
      "cell_type": "code",
      "source": [
        "X_test.shape"
      ],
      "metadata": {
        "colab": {
          "base_uri": "https://localhost:8080/"
        },
        "id": "JL119yBp8NbH",
        "outputId": "2a3c1809-df1f-4b41-857a-31ffa48db9ef"
      },
      "execution_count": 8,
      "outputs": [
        {
          "output_type": "execute_result",
          "data": {
            "text/plain": [
              "(2130, 6)"
            ]
          },
          "metadata": {},
          "execution_count": 8
        }
      ]
    },
    {
      "cell_type": "code",
      "source": [
        "def model_acc(model):\n",
        "  model.fit(X_train,y_train)\n",
        "  acc=model.score(X_test,y_test)\n",
        "  print(str(model)+' --> '+str(acc))"
      ],
      "metadata": {
        "id": "ohXYVL899USC"
      },
      "execution_count": 9,
      "outputs": []
    },
    {
      "cell_type": "code",
      "source": [
        "data.isnull().sum()"
      ],
      "metadata": {
        "colab": {
          "base_uri": "https://localhost:8080/"
        },
        "id": "SMlRkiktAC2G",
        "outputId": "43c5de7b-8e9a-46ba-a346-17ecc319b11a"
      },
      "execution_count": 10,
      "outputs": [
        {
          "output_type": "execute_result",
          "data": {
            "text/plain": [
              "MQ7      0\n",
              "MQ2      0\n",
              "MQ4      0\n",
              "MQ5      0\n",
              "MQ5.1    0\n",
              "MQ3      0\n",
              "Label    0\n",
              "dtype: int64"
            ]
          },
          "metadata": {},
          "execution_count": 10
        }
      ]
    },
    {
      "cell_type": "code",
      "source": [
        "from sklearn.linear_model import LinearRegression\n",
        "from sklearn.linear_model import Lasso\n",
        "from sklearn.tree import DecisionTreeRegressor\n",
        "from sklearn.ensemble import RandomForestRegressor\n",
        "\n",
        "from sklearn.ensemble import HistGradientBoostingClassifier\n",
        "\n",
        "lr=LinearRegression()\n",
        "ls=Lasso()\n",
        "ds=DecisionTreeRegressor()\n",
        "rf=RandomForestRegressor()\n",
        "\n",
        "# hgbc=HistGradientBoostingClassifier()\n",
        "model_acc(lr)\n",
        "model_acc(ls)\n",
        "model_acc(ds)\n",
        "model_acc(rf)\n",
        "# model_acc(hgbc)"
      ],
      "metadata": {
        "colab": {
          "base_uri": "https://localhost:8080/"
        },
        "id": "Oqldqt769Xdh",
        "outputId": "c70c3663-df9f-4184-b8eb-4e73bab0b861"
      },
      "execution_count": 11,
      "outputs": [
        {
          "output_type": "stream",
          "name": "stdout",
          "text": [
            "LinearRegression() --> 0.806385037609921\n",
            "Lasso() --> 0.6185103431993166\n",
            "DecisionTreeRegressor() --> 0.9718714796875114\n",
            "RandomForestRegressor() --> 0.9837318684761799\n"
          ]
        }
      ]
    },
    {
      "cell_type": "markdown",
      "source": [
        "## Hyperparameter tunning"
      ],
      "metadata": {
        "id": "iEdt4Qxsk-m5"
      }
    },
    {
      "cell_type": "code",
      "source": [
        "from sklearn.model_selection import GridSearchCV\n",
        "\n",
        "parameters = {'n_estimators':[10, 50, 100],\n",
        "              'criterion':['squared_error','absolute_error','poisson']}\n",
        "\n",
        "grid_obj = GridSearchCV(estimator=rf, param_grid=parameters)\n",
        "\n",
        "grid_fit = grid_obj.fit(X_train, y_train)\n",
        "\n",
        "best_model = grid_fit.best_estimator_\n",
        "best_model"
      ],
      "metadata": {
        "colab": {
          "base_uri": "https://localhost:8080/",
          "height": 74
        },
        "id": "BtV2591zk5e5",
        "outputId": "7cc60ed5-d9c1-4a31-cdad-02c5b55b2222"
      },
      "execution_count": 12,
      "outputs": [
        {
          "output_type": "execute_result",
          "data": {
            "text/plain": [
              "RandomForestRegressor(criterion='absolute_error')"
            ],
            "text/html": [
              "<style>#sk-container-id-1 {color: black;background-color: white;}#sk-container-id-1 pre{padding: 0;}#sk-container-id-1 div.sk-toggleable {background-color: white;}#sk-container-id-1 label.sk-toggleable__label {cursor: pointer;display: block;width: 100%;margin-bottom: 0;padding: 0.3em;box-sizing: border-box;text-align: center;}#sk-container-id-1 label.sk-toggleable__label-arrow:before {content: \"▸\";float: left;margin-right: 0.25em;color: #696969;}#sk-container-id-1 label.sk-toggleable__label-arrow:hover:before {color: black;}#sk-container-id-1 div.sk-estimator:hover label.sk-toggleable__label-arrow:before {color: black;}#sk-container-id-1 div.sk-toggleable__content {max-height: 0;max-width: 0;overflow: hidden;text-align: left;background-color: #f0f8ff;}#sk-container-id-1 div.sk-toggleable__content pre {margin: 0.2em;color: black;border-radius: 0.25em;background-color: #f0f8ff;}#sk-container-id-1 input.sk-toggleable__control:checked~div.sk-toggleable__content {max-height: 200px;max-width: 100%;overflow: auto;}#sk-container-id-1 input.sk-toggleable__control:checked~label.sk-toggleable__label-arrow:before {content: \"▾\";}#sk-container-id-1 div.sk-estimator input.sk-toggleable__control:checked~label.sk-toggleable__label {background-color: #d4ebff;}#sk-container-id-1 div.sk-label input.sk-toggleable__control:checked~label.sk-toggleable__label {background-color: #d4ebff;}#sk-container-id-1 input.sk-hidden--visually {border: 0;clip: rect(1px 1px 1px 1px);clip: rect(1px, 1px, 1px, 1px);height: 1px;margin: -1px;overflow: hidden;padding: 0;position: absolute;width: 1px;}#sk-container-id-1 div.sk-estimator {font-family: monospace;background-color: #f0f8ff;border: 1px dotted black;border-radius: 0.25em;box-sizing: border-box;margin-bottom: 0.5em;}#sk-container-id-1 div.sk-estimator:hover {background-color: #d4ebff;}#sk-container-id-1 div.sk-parallel-item::after {content: \"\";width: 100%;border-bottom: 1px solid gray;flex-grow: 1;}#sk-container-id-1 div.sk-label:hover label.sk-toggleable__label {background-color: #d4ebff;}#sk-container-id-1 div.sk-serial::before {content: \"\";position: absolute;border-left: 1px solid gray;box-sizing: border-box;top: 0;bottom: 0;left: 50%;z-index: 0;}#sk-container-id-1 div.sk-serial {display: flex;flex-direction: column;align-items: center;background-color: white;padding-right: 0.2em;padding-left: 0.2em;position: relative;}#sk-container-id-1 div.sk-item {position: relative;z-index: 1;}#sk-container-id-1 div.sk-parallel {display: flex;align-items: stretch;justify-content: center;background-color: white;position: relative;}#sk-container-id-1 div.sk-item::before, #sk-container-id-1 div.sk-parallel-item::before {content: \"\";position: absolute;border-left: 1px solid gray;box-sizing: border-box;top: 0;bottom: 0;left: 50%;z-index: -1;}#sk-container-id-1 div.sk-parallel-item {display: flex;flex-direction: column;z-index: 1;position: relative;background-color: white;}#sk-container-id-1 div.sk-parallel-item:first-child::after {align-self: flex-end;width: 50%;}#sk-container-id-1 div.sk-parallel-item:last-child::after {align-self: flex-start;width: 50%;}#sk-container-id-1 div.sk-parallel-item:only-child::after {width: 0;}#sk-container-id-1 div.sk-dashed-wrapped {border: 1px dashed gray;margin: 0 0.4em 0.5em 0.4em;box-sizing: border-box;padding-bottom: 0.4em;background-color: white;}#sk-container-id-1 div.sk-label label {font-family: monospace;font-weight: bold;display: inline-block;line-height: 1.2em;}#sk-container-id-1 div.sk-label-container {text-align: center;}#sk-container-id-1 div.sk-container {/* jupyter's `normalize.less` sets `[hidden] { display: none; }` but bootstrap.min.css set `[hidden] { display: none !important; }` so we also need the `!important` here to be able to override the default hidden behavior on the sphinx rendered scikit-learn.org. See: https://github.com/scikit-learn/scikit-learn/issues/21755 */display: inline-block !important;position: relative;}#sk-container-id-1 div.sk-text-repr-fallback {display: none;}</style><div id=\"sk-container-id-1\" class=\"sk-top-container\"><div class=\"sk-text-repr-fallback\"><pre>RandomForestRegressor(criterion=&#x27;absolute_error&#x27;)</pre><b>In a Jupyter environment, please rerun this cell to show the HTML representation or trust the notebook. <br />On GitHub, the HTML representation is unable to render, please try loading this page with nbviewer.org.</b></div><div class=\"sk-container\" hidden><div class=\"sk-item\"><div class=\"sk-estimator sk-toggleable\"><input class=\"sk-toggleable__control sk-hidden--visually\" id=\"sk-estimator-id-1\" type=\"checkbox\" checked><label for=\"sk-estimator-id-1\" class=\"sk-toggleable__label sk-toggleable__label-arrow\">RandomForestRegressor</label><div class=\"sk-toggleable__content\"><pre>RandomForestRegressor(criterion=&#x27;absolute_error&#x27;)</pre></div></div></div></div></div>"
            ]
          },
          "metadata": {},
          "execution_count": 12
        }
      ]
    },
    {
      "cell_type": "markdown",
      "source": [
        "![image.png](data:image/png;base64,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)"
      ],
      "metadata": {
        "id": "c6O2e_cnoDIm"
      }
    },
    {
      "cell_type": "code",
      "source": [
        "best_model.score(X_test,y_test)"
      ],
      "metadata": {
        "colab": {
          "base_uri": "https://localhost:8080/"
        },
        "id": "cDjF0pLll_ca",
        "outputId": "6b0a0d69-579e-464b-a7c6-5179b3368536"
      },
      "execution_count": 13,
      "outputs": [
        {
          "output_type": "execute_result",
          "data": {
            "text/plain": [
              "0.9843783892951395"
            ]
          },
          "metadata": {},
          "execution_count": 13
        }
      ]
    },
    {
      "cell_type": "code",
      "source": [
        "X_test.columns"
      ],
      "metadata": {
        "colab": {
          "base_uri": "https://localhost:8080/"
        },
        "id": "QCGNMMA5mHQy",
        "outputId": "7ae6f432-3a61-4da8-fc95-5960a0d37009"
      },
      "execution_count": 14,
      "outputs": [
        {
          "output_type": "execute_result",
          "data": {
            "text/plain": [
              "Index(['MQ7', 'MQ2', 'MQ4', 'MQ5', 'MQ5.1', 'MQ3'], dtype='object')"
            ]
          },
          "metadata": {},
          "execution_count": 14
        }
      ]
    },
    {
      "cell_type": "code",
      "source": [
        "import pickle\n",
        "with open('predictor.pickle','wb') as file:\n",
        "  pickle.dump(best_model,file)"
      ],
      "metadata": {
        "id": "WlAyQ-EvoQiX"
      },
      "execution_count": 15,
      "outputs": []
    },
    {
      "cell_type": "code",
      "source": [
        "best_model.predict([[100,100,100,100,100,100]])"
      ],
      "metadata": {
        "colab": {
          "base_uri": "https://localhost:8080/"
        },
        "id": "CSTNjDpevzBm",
        "outputId": "fbbfdd46-27bd-4b68-ecc0-aedc28f2d410"
      },
      "execution_count": 16,
      "outputs": [
        {
          "output_type": "stream",
          "name": "stderr",
          "text": [
            "/usr/local/lib/python3.10/dist-packages/sklearn/base.py:439: UserWarning: X does not have valid feature names, but RandomForestRegressor was fitted with feature names\n",
            "  warnings.warn(\n"
          ]
        },
        {
          "output_type": "execute_result",
          "data": {
            "text/plain": [
              "array([1.77])"
            ]
          },
          "metadata": {},
          "execution_count": 16
        }
      ]
    },
    {
      "cell_type": "markdown",
      "source": [
        "![image.png](data:image/png;base64,iVBORw0KGgoAAAANSUhEUgAAAeEAAAAZCAYAAAAG/JbOAAAFc0lEQVR4Ae2cXY7rIAyFs64uKOvparqZvsxOuHLAwQE74WKpD/iMNIKmdkf5cuxDfjrb399fwi8YQAPQADQADUADv9fARtDxM08A/ObZUSb4gZ+PgC8b+gM/HwFfNukPJuxjCBMBPycBXzpMBPx8BHzZ0J+fH0zYxxAmDH5OAr50NEHw8xHwZUN/fn4wYR9DmDD4OQn40tEEwc9HwJcN/fn5wYR9DGHC4Ock4EtHEwQ/HwFfNvTn5wcT9jGECYOfk4AvHU0Q/HwEfNnQn58fTNjHECYMfk4CvnQ0QfDzEfBlQ39+fmua8GdP27albf+YhD77lmMoTont3n+901f5tIgibNm83i2ZT9qZaxmtQwF+W9oUbbWMtRiSYyh+33d6Nbo6aldqbCRG1DH41T7INdppT/IV7JbV34N/dHyU+v2+X7f+whhJf4uZ8De9X1VUugmXGAUcg8mQ91QtvJiKkhOqiFNKHZsiWGnEFMMFTUxzzit1Xh3NRE4W99rqGCfoj2tTG3PDk0z7KCsmWv32ZFJq2Rz6U3qdlrsWv2f/GKnNzFP2u1K/sikWmMuZcN35AlPZ6VZwvbD0XCtvLRH2NC5bylmGNFx6/7FojTzKDcUvjWhrJKYelVj86n7Xmd3gRmLAr+f3WM8V7FL1++wfI7WZebY98s4/FjsTZnXosFJpgi0gzuKxF6H1ecFMpJz1tmsbS2DMMxUTbvPo/WhNcERbIzHMNho/3m8ea+PkLf14FwN+dNlUnrUNLKoF4jX52f3+sTatXmf0TuIXzITLKmXfm3tLVxEmvvx3iLOsFDf9cteaIhRVJqe3AmsZcmIRtHF5KxS/AwnriXjxvNUWb7+LyXzj8WNd0Wg3yxp1HwN+/bMzh9E0996tE5c1+d1p5qE2D7NVeqHRO4lfSBO+PuRSgHcmy7DzPWbtLI4KfU0R1hZ2nRVWF0NlflJ4vI3vz7cmUz81Fj/e7xFtjcRE0x/zK6NxdnGJeoiJqb//4EdLnfKQkWbEa/Ir/ctq+udJmuINMGEuPwtibmydmJpCZdHxMeDX2oNea4qQOWrj1Rzo6dR9p6fRbaNlfh33cIuY2tDutMW87mL4yMTTH+95qfHLgpDf4/E5Bvz0b30wQR77y7D5nTX5Wf4xUL8wYZaMBdEwYXmpoMw7w2iMmv/SmiLkvRsbD9MYaYaKUYfiN6KtkRhxWELxE/udjHqUISMx4HchZr7Il6j7hfaa/Az/GKnNEsML6BOoYc7EL9jlaGNlLAFZxW3AXVOEp3QGJplpt2i5ZBrco50Jj2hrJEawjao/yxQEmv7rdPLNMgc/BUq3KVr9lv1tnXSoNvUTvXx1S1/EBDPh4/s0x5eoK99yefXcUF43Z3ZW0Uct4lynWnESv0ZsRbyaUcfiN6KtkZjaJWPxK/ttnZFULHTd8Hj4UtOcDAM/SeO4AZxeTe9rb4/IjDX5GSbM94IbPq035NfiGZkbLRK/pUyYxSL/i06eX02hizsNmOVVGuHlCcHrZ3DkmiLkvWvHIk7JpWNX75vI46CEHR8eix/t8oi2RmLysYnHj//5i16PrNi2MfL2dgS/lohS4+2iWqSsxK/zhbPPSa2N1WbWHz+YuiVrMUj8ljJhoY2fTVcS4c+giT8EfgLGxBT8JqCJFPATMCam4DcBTaQQP5iwADIzhQhnqNUc8KssZmbgN0Ot5oBfZTEzA78ZajWH+MGEK4+pGUQ4he1MAr8TxdQE/KawnUngd6KYmoDfFLYzifjBhE8ccxOIcI4bZ4Efk5gbwW+OG2eBH5OYG8FvjhtnET+YMNOYHCHCSXAlDfzAz0fAlw39gZ+PgC/7NGGa4BcMoAFoABqABqCB32rgH663jtYKV0MCAAAAAElFTkSuQmCC)"
      ],
      "metadata": {
        "id": "nQMuuX0WwNmR"
      }
    },
    {
      "cell_type": "code",
      "source": [
        "best_model.predict([[168,93,88,88,77,180]])"
      ],
      "metadata": {
        "colab": {
          "base_uri": "https://localhost:8080/"
        },
        "id": "l7BZ-CzewMZn",
        "outputId": "40ef1bad-700e-40be-daba-5c26bdfe3853"
      },
      "execution_count": 17,
      "outputs": [
        {
          "output_type": "stream",
          "name": "stderr",
          "text": [
            "/usr/local/lib/python3.10/dist-packages/sklearn/base.py:439: UserWarning: X does not have valid feature names, but RandomForestRegressor was fitted with feature names\n",
            "  warnings.warn(\n"
          ]
        },
        {
          "output_type": "execute_result",
          "data": {
            "text/plain": [
              "array([2.37])"
            ]
          },
          "metadata": {},
          "execution_count": 17
        }
      ]
    },
    {
      "cell_type": "markdown",
      "source": [
        "![image.png](data:image/png;base64,iVBORw0KGgoAAAANSUhEUgAAAeEAAAAZCAYAAAAG/JbOAAAFVUlEQVR4Ae2cYY7jIAyFc64eqOfpaXqZ/ulNWDlgMGASqFfzA7+VRiGJHSnfPPslkNnj+/0G/IABNAANQAPQADTw9xo4CDr+/U4A/H5nR5ngB342ArZs6A/8bARs2aQ/mLCNIUwE/IwEbOkwEfCzEbBlQ392fjBhG0OYMPgZCdjS0QTBz0bAlg392fnBhG0MYcLgZyRgS0cTBD8bAVs29GfnBxO2MYQJg5+RgC0dTRD8bARs2dCfnR9M2MYQJgx+RgK2dDRB8LMRsGVDf3Z+MGEbQ5gw+BkJ2NLRBMHPRsCWDf3Z+e1pwu9nOI4jHM+3QugdnnRO/LRh72d9nmPbOLq4KxF+XuEhuDEX3hY+94z5F+OKX7rpVl+P14dx5O1MDAWD3xGOxyvUBKG/LCRl0Gqr5dedTzVf6rtcdEv9XfjHHJs1/W1mwp/weggDVVRDEOXhCPURZB88j3WFXYQnR1uKUN7gxPjzeoTjeIb4yBN/Bz3jmjtf1hu/qDdmFUJIBS+NeCYG/JhAaniiXolfr7+6xjnbvf6Czq81ZubVbvfiN+cfd2xW9beVCUczoGJLMGUlturh/fR21zVBUdQcqm33EqF2h3fHUhFfsVYY81Vd8RtwOE2X9TYTw/DcvQnrdV0/BAo4PBwwpdOu9Bfm+FV6ZIaD7U78ZvxjhU1GdqO/rUw43/RAbOW8GCVA0kNWQO8kQkFleliEe5FyI8KLzL1OpbdeqTW6wcpEZmIEFW/662tTNxaBiACfyygtd4oBv55fz7iiWe3sya9nwje9woZz7vTn3IQTbH4LSdRO0M3ap3xTznAdFrG89zD7sDMwFrrWnkVcU8p7IzM4+aTp0pmYfEFn/M775vU24sVjMb0v2MShXuMc5kp/k/zQ/25MeNIbZvXn0IQT4AzyqoATxnPN8wiaEfsrYm5fZT1Te8MoUf2aUznnzUQ0Q2A98prlTEwh6FN/bL7x+49ef8yUvw8Z1zj41evnRVllFGdqPPW/pJ9eWAVKGuls1vTn0IRrjjrEOob2RtMQPouYiGhmMeB2sMH05/3xqw2Evix/PulrfmkUMzGRpTd+XK/cH3lf/0uIyIhj8BDNSx/FeJnNFT+i6Kv/zZvwFZuovsJ8pD/3JpzNpGqCjK9s4xSNbJTxnLcmmIlcTDFzTGQ2NmCKc8uPIfGacLMkIk6fw7NZKjGu+I2+LbjVIr+ZOK/fn/klE1Z65J76+8GEFTalhq/1BxOeeqNLEL03waKq+GR8IbxowOWJW6RWwz2LuLrFm52oLe0puSSOY1zxG5ntaB09A0T9nijALyviepD0wtMtl8FjbZW0cQzVrzMTpmm+5mk4CTM3QSroxmx5ykb7nbhqgqyq0RN1On/Fiy/BW5f8+OaND4B0GV/80jR9U5/1LNVEjWf+4EcoKn7of2WprW34U2zW9beVCXPz5//BqWyL8WoxNev01JI/3KKPO0q+qN9z6KsJxruvirYFwn/8X/HjD2T6qWlf/BRt1eIrDUDy62IKdF/86L6TEUs+TX3e1zj4ld7Y9jdFow3fQm+vhxhNN5ET9/85Ntp1RiVM9buVCUtx/NXYXxP8v2TBz8YT/MDPRsCWDf3Z+cGEbQydTQcaYSnpKGIFysIh8FuApYSCnwJl4RD4LcBSQokfTFgBs3IIIlyh1ceCX89k5Qj4rdDqY8GvZ7JyBPxWaPWxxA8m3HNZOgIRLuHqgsGvQ7J0APyWcHXB4NchWToAfku4umDiBxPusKwdgAjXeLXR4NcSWdsHvzVebTT4tUTW9sFvjVcbTfxOE6YBfsAAGoAGoAFoABr4Ww38Awf2v6UnWMHHAAAAAElFTkSuQmCC)"
      ],
      "metadata": {
        "id": "6Z7YBh0gwjwo"
      }
    },
    {
      "cell_type": "code",
      "source": [
        "best_model.predict([[135,72,99,83,85,153]])"
      ],
      "metadata": {
        "colab": {
          "base_uri": "https://localhost:8080/"
        },
        "id": "3qiHx5XQwmOf",
        "outputId": "c72bf67a-8554-400d-ca82-36416279a316"
      },
      "execution_count": 18,
      "outputs": [
        {
          "output_type": "stream",
          "name": "stderr",
          "text": [
            "/usr/local/lib/python3.10/dist-packages/sklearn/base.py:439: UserWarning: X does not have valid feature names, but RandomForestRegressor was fitted with feature names\n",
            "  warnings.warn(\n"
          ]
        },
        {
          "output_type": "execute_result",
          "data": {
            "text/plain": [
              "array([2.97])"
            ]
          },
          "metadata": {},
          "execution_count": 18
        }
      ]
    },
    {
      "cell_type": "markdown",
      "source": [
        "![image.png](data:image/png;base64,iVBORw0KGgoAAAANSUhEUgAAAeEAAAAZCAYAAAAG/JbOAAAEf0lEQVR4Ae2YS3LcMAwFda4cyOfJaXKZbOYm43rltAXDIM3JYjRFvMUUPwKVsNUgmBy32+3unxnYATtgB+yAHXi+A4eg34/DPzOwA3bADtgBO/BkB1yEnwzcFx5f+OyAHbADdgAHXIRdhH3ztQN2wA7YgYsccBG+CDy3ILe+EdsBO2AH+jrgIuwi7BuwHbADdsAOXOSAi/BF4H3z7Xvz9bf3t7cDdgAHXIRdhH0DtgN2wA7YgYsc2LYIH8dx14/bRmzf/j0jRuP4XP2VmLym0/hPYlixXonpxIy9Zi6/kn/5+cxT3tmprfj8TQydv9/PNBwxvzEbGJFzjKtWzhEX/av4Kq6qM3rvdkX4dwCjjWd4AhRhAEzriFW/iolzxHZsYRzFyxxWYvKaDmN8U8t+5WksxMTM+LK2WwubyE95KYbw0rOYq6yJOd6NG/uFhfmd+QcbtZxb8qmqHzFWOZvd03MY42NcU/W3KsLatMAJJDCrTec5wYyHYH6u8UpMtW63ORjHJM57XInJa7qMK49y0uZxFzYr+6zyesW3ivvKn7dbjPnVxVffGY9W6odi5BRr1OLKo/m7VREGgtpKtvg89gUz3pzjM/pO4g/JkA8uVbsSU63rMKdLYnaNROZi82gSd+DGHis2K7m+kuP8GTu35ncWy9l3njkV85W+i3C4hQB2BpEYtcRFiPE5/erw5FmnVgWEC4mY8BNHOKzEENutHRUDcYQhByVs1WpdN1aj/coveNEXs1H8ao6P1u82DzNxoW9+X/3BmerbxxyeFeHV/G35L2EAA2kmoD4Cov5UqKsPtttcxQKecFyJ2Y3L6n5gFV1iTm31HhLdhfjkg2PKYfUzN5iu5nhev/vY/L47E785/sQ59XXGySnmyc2YzzyjJWaUvy2LMHDU/gQI6KMDMr6rQ1/JW8kUD8OVmA6sRnuMByDc1HKJqdbh4SzZq3W7zZGvYqi9MY4HY94zMZW3OXb3MSzM7yyk1TcfFeGcp/BUW72HuVn+ti/CggTwfAgCzgX4FGxUYHXAkdgrMcjp9iwks0TGxexoN37yrCqmXGZGPEY5Porfdd78zrNs9o3xJcaQg3Kt+lVesp61Vf66CIciHA9BoFFYgNm9Rc7ISkwkJZeVlZjuHOP+xWuWwIodMY3v6dAfFVvxm+Wq+X0UH/P7/yJc5ZfOQTHN52GOnfnXrggrUfNtRBDjIQjYWVJnyJ3GOZHFSXORwUpMjO/ar5JTLsakto+nW7gW+XBhJq9Xcryrb+Z3ujRzgLycxegZuRl9fDR/tyrCAFEByD8StIqRmBE2ouZ3aKyPE2M79iuGmcNKTF7TYUxyR7fyvqsY/M2xHcdVfkY+lXs5xztyY8/mV5/hlTfkafQLjmpZo5b5R/N3qyIMBLenEGZhFnbADtiB13XARTjcYCzq64rqb+NvYwfswI4OuAi7CH/+N8qOgntPPrjtgB14ZQdchF2EXYTtgB2wA3bgIgdchC8C/8o3M//d/C8HO2AH7MBzHHARdhH2DdgO2AE7YAcucuAd6ysnJ4cohUsAAAAASUVORK5CYII=)"
      ],
      "metadata": {
        "id": "v3UcT3Htw2Fi"
      }
    },
    {
      "cell_type": "code",
      "source": [
        "best_model.predict([[132,66,95,83,85,145]])"
      ],
      "metadata": {
        "colab": {
          "base_uri": "https://localhost:8080/"
        },
        "id": "20HlUu-7w5W2",
        "outputId": "7aabbff8-f34e-406a-da06-0202edc7b87a"
      },
      "execution_count": 19,
      "outputs": [
        {
          "output_type": "stream",
          "name": "stderr",
          "text": [
            "/usr/local/lib/python3.10/dist-packages/sklearn/base.py:439: UserWarning: X does not have valid feature names, but RandomForestRegressor was fitted with feature names\n",
            "  warnings.warn(\n"
          ]
        },
        {
          "output_type": "execute_result",
          "data": {
            "text/plain": [
              "array([2.73])"
            ]
          },
          "metadata": {},
          "execution_count": 19
        }
      ]
    },
    {
      "cell_type": "markdown",
      "source": [
        "![image.png](data:image/png;base64,iVBORw0KGgoAAAANSUhEUgAAAeEAAAAZCAYAAAAG/JbOAAAEf0lEQVR4Ae2bwVHDMBBF1Q8dUAN1cKIRbjRBC5zTBxc6MSONF9ZrrSR7IE6878DYjhUnfnrSXzsmfX19TfzBAAdwAAdwAAeu70DK0KdL4g8GOIADOIADOHBlBwjhKwOn4KHgwwEcwAEcEAcIYUKYyhcHcAAHcOAgBwjhg8BLFcSSihgHcAAH4jpACBPCVMA4gAM4gAMHOUAIHwSeyjdu5Uvf0/c4gAPiACFMCFMB4wAO4AAOHOTAOUP4NU0ppSk9NaqtTpvn/H719/zaONZBnSeV1DWXH09LLsLoh897mh4VN9kvy592gZjZ/rEMH1+Wbtn9sOvweUjTZ82nzhi3/RJle+WXx++Sps+Xebw32pyO24g3nTZbGJ8uhN8eVEg4Idxrk/frsBCg+rXTiVebxCqvFRY7BqQM5o/KMSOxFJd+OMyDWQfxXsYROK74XdJUCmbjZG+MR2BVO8dRfuW9c0H9nAtvw7d27DO8NuJNr80mxpc0nSqEZaJ/e09TAVUJ4ZE2K5lmGfVEuWoTJFz2BkSZKCv9EYqj45FlardDMeqMo9q4ljEthY1st+aBqExH+Amb3DbPeYVngBAe8WakzRbGmfWpQljkycsaCL1/tE15jzN52uNF2N4TEFrcCIzcc5yveu0dFeEjIbKHsfuZnVC7t/fV2LTGemvfvZ37X3zfUX7aybIeIIQ13xFvvDajjOXzCOGRqzNn8hSIkZZFMPObb+8OgSdrJG7lXOX2nn2+YPYrX7nldnsYR2Ipz2tkXrIuBYzlgHvL39MzH2Hm8jOeEsJrhpljy60uY1UcE8IDIVyABqsE7WTmbUvF7AYxBcziqdMycI1L5bWUJglhy7rLWA1o+96zbssklx9as3cW9Dm3JkrdLtp6i18pAtW8SAhvD+HsU4ux9o0QVrJpMLIuVyXeBCntIi8LIxMswqMWOrIv6lIPzhIi8xPn3tVc5tRiHImjFCQSvLLt/ScEIbwMEOHl8puLZu0iIbxkKOPNc6vL2BTNhHAjhAngunwioSyFkx64ZR9XwYurYOFllyOTnMvYDGh77FNte89mNDzzJspTcRl1YICfeCb/FmeX7h2v0e9wJ+1GvKm2GWBs3SOEnRAWGaVitODY/g3oImPlSlgYrsL5Tgbitfo48+tNbh7ja33Hm/gcL2zNb5j6u1Ynyqj+7eCXWY4UiZr5GdZHvKm22cGYEK6EsL2dcAap/uQc8mRnwtZl5VWEUSdA57xX4bqFsXPMP+nrGz12uZVvHGwVe9WJ8kbP7Rr9tpVf/k6E8O8Fh+4jz62tjE8VwhII9hZK3parsZE29jc7fbzovw0X8czT0cJWC9qaGHW7aOsrfpUicNVG+RuNV+18a+NTOzgyxmvHjfJaj5/lECWER7wZaZP5bWF8qhC28rBdr+DgAhccwAEcuA0HCOHAt6YYhLcxCOkH+gEH4jpACBPCQ0/wMknEnSToe/oeB/7PAUKYECaEcQAHcAAHDnKAED4IPJXl/1WWsIUtDuDAvThACBPCVMA4gAM4gAMHOfANSgnDAwK8d7AAAAAASUVORK5CYII=)"
      ],
      "metadata": {
        "id": "Lujre9IAxFZ4"
      }
    },
    {
      "cell_type": "code",
      "source": [
        "best_model.predict([[112,57,95,81,84,118]])"
      ],
      "metadata": {
        "colab": {
          "base_uri": "https://localhost:8080/"
        },
        "id": "8bx-3EmBxIDu",
        "outputId": "a52cde3c-a033-426e-e8b6-016345515953"
      },
      "execution_count": 20,
      "outputs": [
        {
          "output_type": "stream",
          "name": "stderr",
          "text": [
            "/usr/local/lib/python3.10/dist-packages/sklearn/base.py:439: UserWarning: X does not have valid feature names, but RandomForestRegressor was fitted with feature names\n",
            "  warnings.warn(\n"
          ]
        },
        {
          "output_type": "execute_result",
          "data": {
            "text/plain": [
              "array([2.])"
            ]
          },
          "metadata": {},
          "execution_count": 20
        }
      ]
    },
    {
      "cell_type": "markdown",
      "source": [
        "![image.png](data:image/png;base64,iVBORw0KGgoAAAANSUhEUgAAAeEAAAAZCAYAAAAG/JbOAAAEqElEQVR4Ae2cy3HjMBBEkYMS8M0nB+C7S2fn4DychtNQSM6EW4BmoNEA4GdVEmXgHVykKIJeNl9PD0DXht/f34kfNIABGIABGICBxzMQoujh9MkPGsAADMAADMDAoxkghGlAaMJgAAZgAAZ2YoAQ3kn4R3db/D46fBiAARh4PgYIYUKYDhgGYAAGYGAnBgjhnYSnI32+jpRnwjOBARh4NAOEMCFMBwwDMAADMLATA4TwTsI/utvi99HhwwAMwMDzMdBlCH+/TCGEKRzf64J/Hc7fx3Pmzlu6zohAH0Uz1U63341mRrV+fas/CzScwtdHWxv0K7XxDBZsvV/7OzLa4hP+poB+JWNLXHgGfdb47wuNTb3sK4Q/pvBqQsILE4VNRe0whR8VQQx7de6K6yw9pF6/j3DNAWXv++dtCuEwheNh/Rg7vsf9ZM6Xi+m10asFMfpddFIWvH4n8a9lMp5jQzeNsZ5X7w+4Rb+SKWVr1VaywfLmx63R2I7pKoRzwIpQV8EaDSeG9QUvjTOFcfE6A5pXoYmAzQGo553kGUSto56rxnSuawrVUM58q5qiX/mOsuFr79/MoPDU0t2f1/1n9CuZ2lhzlljTuuezZ25cVyGcTdSATc1ou+Q4Rmcj/nhL0Px7Nj7AHsZVA6Oig4Uu7hPCbc6sVsqIPYZ+l9lLwV/D66pj3LZ8b88ZZR/9LixtfubCmp/E+ets1XioEE5hW1mWapp0hcH9A+j9cwRM3wPr1kPp9SREzsb3uigrnkt/HvqZwqnve6OPdd+sYqmmeSsepgkUDVUz9Ns+KxbtjvI3R1r/4iu3/HozTkg2akwIz3XKhPAiqGnG5pZYY1Db5RhCRApgLRDkmDUy+pnQrayy5CInDWFrBSsXybmQrl2/92MaEui3WN9yM2fC9aqhU/96xpY0NowRwoTwNhANPAqoXX5JszoHJCFsQsWZMwZF6qxFM/QzWlVY06ZPg1c/26ZPudStnuNXbPT7kbaqBfrNc1ZlQrzrOUqeNX8MuFXjoULYL/Op0H45UI/zTngdqGmJWkIk7VeWrHVW4gHOWlcK7ijfRdNqd41+bebUv54hXwQLblqzlcGYQ782WwUzNTYaIay6xsZG97cwOlQI6zKWFyh1Lm72lh6KmHeuy1718GoPtJdjopGGSE0PGzK174c+Jvp5Jq0m6Hcunq2w1cKnszurXdpfwWgxphd/mvtAvxtDuMGRncT9j8ZjhfDnFNJMw7xIVwNXi6CITgif4Y1a+bBNDYxZiqkVM0KkYf6Gqb2G6Cf6yUzEM2hXYlKj7RpqLYxVj5uQ8rp39xn9bn71pizlhk80zRmxRmPHXFchrIGgS59560zpl/y8OddepzuTOjiK+5PQyLrGZWenbTFG/oMUXzhr53V/rKJfNu+M9oSwaWKkyM0xWPNvLpozOnfPX7x39Ls5iD1fhYdXaGxZ6yqE7Y2xbwrX6IWH+7+58OAn/AQD92GAEKZAU6BhAAZgAAZ2YoAQ3kl4usr7dJXoiq4wAAN/iQFCmBCmA4YBGIABGNiJAUJ4J+H/UqfGv5WZBQzAAAzchwFCmBCmA4YBGIABGNiHgX9N7mIoVBsc5wAAAABJRU5ErkJggg==)"
      ],
      "metadata": {
        "id": "Wzv85Lq3xU3b"
      }
    },
    {
      "cell_type": "code",
      "source": [
        "best_model.predict([[101,54,94,83,83,68]])"
      ],
      "metadata": {
        "colab": {
          "base_uri": "https://localhost:8080/"
        },
        "id": "xKXenedmxZnv",
        "outputId": "5dc8f426-daa5-4c48-c908-0ddab729993a"
      },
      "execution_count": 21,
      "outputs": [
        {
          "output_type": "stream",
          "name": "stderr",
          "text": [
            "/usr/local/lib/python3.10/dist-packages/sklearn/base.py:439: UserWarning: X does not have valid feature names, but RandomForestRegressor was fitted with feature names\n",
            "  warnings.warn(\n"
          ]
        },
        {
          "output_type": "execute_result",
          "data": {
            "text/plain": [
              "array([1.])"
            ]
          },
          "metadata": {},
          "execution_count": 21
        }
      ]
    },
    {
      "cell_type": "markdown",
      "source": [
        "208 102 108 85 75 152"
      ],
      "metadata": {
        "id": "Oxdo9t31yAx-"
      }
    },
    {
      "cell_type": "code",
      "source": [
        "best_model.predict([[208,102,108,85,75,152]])"
      ],
      "metadata": {
        "colab": {
          "base_uri": "https://localhost:8080/"
        },
        "id": "ElhrUv78yDdV",
        "outputId": "ac0cd025-8ce8-4c56-ef56-f8a317a51d7e"
      },
      "execution_count": 22,
      "outputs": [
        {
          "output_type": "stream",
          "name": "stderr",
          "text": [
            "/usr/local/lib/python3.10/dist-packages/sklearn/base.py:439: UserWarning: X does not have valid feature names, but RandomForestRegressor was fitted with feature names\n",
            "  warnings.warn(\n"
          ]
        },
        {
          "output_type": "execute_result",
          "data": {
            "text/plain": [
              "array([2.94])"
            ]
          },
          "metadata": {},
          "execution_count": 22
        }
      ]
    },
    {
      "cell_type": "markdown",
      "source": [
        "104 65 79 75 76 98"
      ],
      "metadata": {
        "id": "xY3NXn96yba5"
      }
    },
    {
      "cell_type": "code",
      "source": [
        "best_model.predict([[104,65,79,75,76,98]])"
      ],
      "metadata": {
        "colab": {
          "base_uri": "https://localhost:8080/"
        },
        "id": "9QrbLSnuyaI4",
        "outputId": "897ab0c8-54e8-41eb-952e-04913797f4dd"
      },
      "execution_count": 23,
      "outputs": [
        {
          "output_type": "stream",
          "name": "stderr",
          "text": [
            "/usr/local/lib/python3.10/dist-packages/sklearn/base.py:439: UserWarning: X does not have valid feature names, but RandomForestRegressor was fitted with feature names\n",
            "  warnings.warn(\n"
          ]
        },
        {
          "output_type": "execute_result",
          "data": {
            "text/plain": [
              "array([1.25])"
            ]
          },
          "metadata": {},
          "execution_count": 23
        }
      ]
    },
    {
      "cell_type": "markdown",
      "source": [
        "104 56 81 77 77 95"
      ],
      "metadata": {
        "id": "1orQ39AXzDDx"
      }
    },
    {
      "cell_type": "code",
      "source": [
        "best_model.predict([[104,56,81,77,77,95]])"
      ],
      "metadata": {
        "colab": {
          "base_uri": "https://localhost:8080/"
        },
        "id": "pj7X4PP7zE6m",
        "outputId": "ce2d8df4-07ca-4692-cf4a-f517082510ac"
      },
      "execution_count": 24,
      "outputs": [
        {
          "output_type": "stream",
          "name": "stderr",
          "text": [
            "/usr/local/lib/python3.10/dist-packages/sklearn/base.py:439: UserWarning: X does not have valid feature names, but RandomForestRegressor was fitted with feature names\n",
            "  warnings.warn(\n"
          ]
        },
        {
          "output_type": "execute_result",
          "data": {
            "text/plain": [
              "array([1.46])"
            ]
          },
          "metadata": {},
          "execution_count": 24
        }
      ]
    },
    {
      "cell_type": "markdown",
      "source": [
        "98 52 79 74 77 81"
      ],
      "metadata": {
        "id": "r8pgSYzp2Y-K"
      }
    },
    {
      "cell_type": "code",
      "source": [
        "best_model.predict([[98,52,79,74,77,81]])"
      ],
      "metadata": {
        "colab": {
          "base_uri": "https://localhost:8080/"
        },
        "id": "tL_bs5ty2afS",
        "outputId": "6e02b7d3-763e-4926-9ec5-109b81402c4a"
      },
      "execution_count": 25,
      "outputs": [
        {
          "output_type": "stream",
          "name": "stderr",
          "text": [
            "/usr/local/lib/python3.10/dist-packages/sklearn/base.py:439: UserWarning: X does not have valid feature names, but RandomForestRegressor was fitted with feature names\n",
            "  warnings.warn(\n"
          ]
        },
        {
          "output_type": "execute_result",
          "data": {
            "text/plain": [
              "array([1.32])"
            ]
          },
          "metadata": {},
          "execution_count": 25
        }
      ]
    }
  ],
  "metadata": {
    "kernelspec": {
      "display_name": "Python 3",
      "name": "python3"
    },
    "language_info": {
      "codemirror_mode": {
        "name": "ipython",
        "version": 3
      },
      "file_extension": ".py",
      "mimetype": "text/x-python",
      "name": "python",
      "nbconvert_exporter": "python",
      "pygments_lexer": "ipython3",
      "version": "3.8.5"
    },
    "colab": {
      "provenance": [],
      "include_colab_link": true
    },
    "accelerator": "TPU"
  },
  "nbformat": 4,
  "nbformat_minor": 0
}